{
 "cells": [
  {
   "cell_type": "markdown",
   "metadata": {},
   "source": [
    "<div class=\"alert alert-block alert-info\">\n",
    "<b>How to run this notebook?</b><br />\n",
    "<ol>\n",
    "    <li>Install the DockStream environment: conda env create -f environment.yml in the DockStream directory</li> \n",
    "    <li>Activate the environment: conda activate DockStreamCommunity</li>\n",
    "    <li>Execute jupyter: jupyter notebook</li>\n",
    "    <li> Copy the link to a browser</li>\n",
    "    <li> Update variables <b>dockstream_path</b> and <b>dockstream_env</b> (the path to the environment DockStream) in the \n",
    "        first code block below</li>\n",
    "    </ol>\n",
    "</div>\n",
    "\n",
    "\n",
    "# `rDock` backend demo\n",
    "This notebook will demonstrate how to **(a)** set up an `rDock` backend run [[link](http://rdock.sourceforge.net)] with `DockStream`, including the most important settings and **(b)** how to set up a `REINVENT` [[link](https://github.com/MolecularAI/Reinvent)] run with `rDock` docking enabled as one of the scoring function components.\n",
    "\n",
    "**Steps:**\n",
    "* a: Set up `DockStream` run\n",
    "  1. Prepare the receptor\n",
    "  2. Prepare the input: SMILES and configuration file (JSON format)\n",
    "  3. Execute the docking and parse the results\n",
    "* b: Set up `REINVENT` run with a `DockStream` component\n",
    "  1. Prepare the receptor (see *a.1*)\n",
    "  2. Prepare the input (see *a.2*)\n",
    "  3. Prepare the `REINVENT` configuration (JSON format)\n",
    "  4. Execute `REINVENT`\n",
    "\n",
    "As `rDock` does not have any ligand embedding on its own (i.e. translating SMILES into 3D molecules), we make use of one of `DockStream`'s ligand preparators: For this notebook we will apply `RDKit`, alternatives would be `Corina`, `OMEGA`, or `LigPrep`. Thus, this run will only make use of freely available software.\n",
    "\n",
    "__Note:__ Make sure, you have activated the `DockStream` environment before launching this notebook. This notebook will deposit all files created into `~/Desktop/rDock_demo`.\n",
    "\n",
    "The following imports / loadings are only necessary when executing this notebook. If you want to use `DockStream` directly from the command-line, it is enough to execute the following with the appropriate configurations:\n",
    "\n",
    "```\n",
    "conda activate DockStream\n",
    "python /path/to/DockStream/target_preparator.py -conf target_prep.json\n",
    "python /path/to/DockStream/docker.py -conf docking.json\n",
    "```"
   ]
  },
  {
   "cell_type": "code",
   "execution_count": 1,
   "metadata": {},
   "outputs": [],
   "source": [
    "import os\n",
    "import json\n",
    "import tempfile\n",
    "\n",
    "# update these paths to reflect your system's configuration\n",
    "dockstream_path = os.path.expanduser(\"~/Desktop/ProjectData/DockStream\")\n",
    "dockstream_env = os.path.expanduser(\"~/miniconda3/envs/DockStream\")\n",
    "\n",
    "# no changes are necessary beyond this point\n",
    "# ---------\n",
    "# get the notebook's root path\n",
    "try: ipynb_path\n",
    "except NameError: ipynb_path = os.getcwd()\n",
    "\n",
    "# generate the paths to the entry points\n",
    "target_preparator = dockstream_path + \"/target_preparator.py\"\n",
    "docker = dockstream_path + \"/docker.py\"\n",
    "\n",
    "# generate a folder to store the results\n",
    "output_dir = os.path.expanduser(\"~/Desktop/rDock_demo\")\n",
    "try:\n",
    "    os.mkdir(output_dir)\n",
    "except FileExistsError:\n",
    "    pass"
   ]
  },
  {
   "cell_type": "code",
   "execution_count": 2,
   "metadata": {},
   "outputs": [],
   "source": [
    "# generate the paths to the files shipped with this implementation\n",
    "apo_1UYD_path = ipynb_path + \"/../data/1UYD/1UYD_apo.pdb\"\n",
    "reference_ligand_path = ipynb_path + \"/../data/1UYD/PU8.pdb\"\n",
    "smiles_path = ipynb_path + \"/../data/1UYD/ligands_smiles.txt\"\n",
    "input_prm_path = ipynb_path + \"/../data/rDock/rbcavity_1UYD.prm\"\n",
    "\n",
    "# generate output paths for the configuration file, the \"fixed\" PDB file and the \"rDock\" cavity\n",
    "target_prep_path = output_dir + \"/rDock_target_prep.json\"\n",
    "fixed_pdb_path = output_dir + \"/rDock_fixed_target.pdb\"\n",
    "rdock_updated_prm_path = output_dir + \"/rbcavity_updated.prm\"\n",
    "rdock_cavity_as_path = output_dir + \"/rbcavity_updated.as\"\n",
    "\n",
    "# generate output paths for the configuration file, embedded ligands, the docked\n",
    "# ligands and the scores\n",
    "docking_path = output_dir + \"/rDock_docking.json\"\n",
    "ligands_conformers_path = output_dir + \"/rDock_embedded_ligands.sdf\"\n",
    "ligands_docked_path = output_dir + \"/rDock_docked_ligands.sdf\"\n",
    "ligands_scores_path = output_dir + \"/rDock_scores.csv\""
   ]
  },
  {
   "cell_type": "markdown",
   "metadata": {},
   "source": [
    "## Target preparation\n",
    "In order to use `rDock` as our docking backend, we have to provide the target structure in a format `rDock` can use. This includes a number of preparatory steps which are executed by the `target_preparator.py` entry point of `DockStream`. For building a cavity file, a number of parameters can be set to adjust the outcome. These are specified in an `prm` file. `DockStream` has an internal template (see `config/rDock/standard_reference_ligand.prm`), but you might want to overwrite some of those parameters in your case. We will use one that has been deposited in the `tests/tests_data/rDock` folder (see print-out below). Note, that the paths to the receptor and reference molecules will be updated internally and the `mol2` file version of the receptor will be made as well."
   ]
  },
  {
   "cell_type": "code",
   "execution_count": 3,
   "metadata": {},
   "outputs": [
    {
     "name": "stdout",
     "output_type": "stream",
     "text": [
      "RBT_PARAMETER_FILE_V1.00\n",
      "TITLE rDock_default_cavity_reference_ligand\n",
      "\n",
      "RECEPTOR_FILE <RECEPTOR_MOL2_FILE_ABSOLUTE_PATH>\n",
      "RECEPTOR_FLEX 3.0\n",
      "\n",
      "##################################################################\n",
      "### CAVITY DEFINITION: REFERENCE LIGAND METHOD\n",
      "##################################################################\n",
      "SECTION MAPPER\n",
      "SITE_MAPPER RbtLigandSiteMapper\n",
      "REF_MOL <REFERENCE_SDF_FILE_ABSOLUTE_PATH>\n",
      "RADIUS 6.0\n",
      "SMALL_SPHERE 1.0\n",
      "MIN_VOLUME 100\n",
      "MAX_CAVITIES 1\n",
      "VOL_INCR 0.0\n",
      "GRIDSTEP 0.5\n",
      "END_SECTION\n",
      "\n",
      "#################################\n",
      "#CAVITY RESTRAINT PENALTY\n",
      "#################################\n",
      "SECTION CAVITY\n",
      "SCORING_FUNCTION RbtCavityGridSF\n",
      "WEIGHT 1.0\n",
      "END_SECTION\n"
     ]
    }
   ],
   "source": [
    "with open(input_prm_path, 'r') as f:\n",
    "    prm_contents = [x.strip() for x in f.readlines()]\n",
    "    [print(x) for x in prm_contents]"
   ]
  },
  {
   "cell_type": "markdown",
   "metadata": {},
   "source": [
    "Setting up a docking run is a semi-automated process and it might be wise to think about the details of this process beforehand, including:\n",
    "* Is my target structure complete (e.g. has it missing loops in the area of interest)?\n",
    "* Do I have a reference ligand in a complex (holo) structure or do I need to define the binding cleft (cavity) in a different manner?\n",
    "* Do I want to keep the crystal water molecules, potential co-factors and such or not?\n",
    "\n",
    "This step has to be done once per project and target. Typically, we start from a PDB file with a holo-structure, that is, a protein with its ligand. Using a holo-structure as input is convenient for two reasons:\n",
    "1. The cavity can be specified as being a certain area around the ligand in the protein (assuming the binding mode does not change too much).\n",
    "2. One can align other ligands (often a series with considerable similarity is used in docking studies) to the \"reference ligand\", potentially improving the performance.\n",
    "\n",
    "Here, we will use the reference ligand method. Our testcase is a public dataset of [1UYD](https://www.rcsb.org/structure/1UYD), a crystal structure of human HSP90-alpha in complex with a ligand. The 15 ligands have been taken from a [blog post](https://www.discngine.com/blog/2019/6/6/tethered-minimization-of-small-molecules-with-rdkit-towards-tethered-docking-on-proteins-with-rdock) from Peter Schmidtke.\n",
    "\n",
    "![](img/target_preparation_template_method.png)\n",
    "\n",
    "For this notebook, it is assumed that you are able to\n",
    "\n",
    "1. download `1UYD` and\n",
    "2. split it into `1UYD_apo.pdb` and `reference_ligand.pdb` (name is `PU8` in the file), respectively.\n",
    "\n",
    "We will now set up the JSON instruction file for the target preparator that will help us build a cavity definition suitable for `rDock` docking later. We will also include a small section (internally using [PDBFixer](https://github.com/openmm/pdbfixer)) that will take care of minor problems of the input structure, such as missing hetero atoms - but of course you can address these things with a program of your choice as well. We will write the JSON to the output folder in order to load it with the `target_preparator.py` entry point of `DockStream`."
   ]
  },
  {
   "cell_type": "code",
   "execution_count": 4,
   "metadata": {},
   "outputs": [],
   "source": [
    "# specify the target preparation JSON file as a dictionary and write it out\n",
    "tp_dict = {\n",
    "  \"target_preparation\":\n",
    "  {\n",
    "    \"input_path\": apo_1UYD_path,                  # this should be an absolute path\n",
    "    \"fixer\": {                                    # based on \"PDBFixer\"; tries to fix common problems with PDB files\n",
    "      \"enabled\": True,\n",
    "      \"standardize\": True,                        # enables standardization of residues\n",
    "      \"remove_heterogens\": True,                  # remove hetero-entries\n",
    "      \"fix_missing_heavy_atoms\": True,            # if possible, fix missing heavy atoms\n",
    "      \"fix_missing_hydrogens\": True,              # add hydrogens, which are usually not present in PDB files\n",
    "      \"fix_missing_loops\": False,                 # add missing loops; CAUTION: the result is usually not sufficient\n",
    "      \"add_water_box\": False,                     # if you want to put the receptor into a box of water molecules\n",
    "      \"fixed_pdb_path\": fixed_pdb_path            # if specified and not \"None\", the fixed PDB file will be stored here\n",
    "    },\n",
    "    \"runs\": [                                     # \"runs\" holds a list of backend runs; at least one is required\n",
    "      {\n",
    "        \"backend\": \"rDock\",                       # one of the backends supported (\"rDock\" \"Gold\", ...)\n",
    "        \"output\": {\n",
    "          \"directory\": output_dir                 # the \"updated\" prm and the as file will be dumped to\n",
    "                                                  # this location\n",
    "        },\n",
    "        \"parameters\": {\n",
    "          \"prefix_execution\": \"module load rDock\" # things that need to be done before executing\n",
    "                                                  # if you have the rDock binarier in your path, this is\n",
    "                                                  # not required\n",
    "        },\n",
    "        \"cavity\": {\n",
    "          \"method\": \"reference_ligand\",           # how to define the cavity (here, use this)\n",
    "          \"reference_ligand_path\": reference_ligand_path, # path to reference ligand file\n",
    "          \"reference_ligand_format\": \"pdb\",       # format of the reference ligand file (\"pdb\" or \"sdf\")\n",
    "          \"prm_file\": input_prm_path              # path to template prm file you want to use\n",
    "}}]}}\n",
    "\n",
    "with open(target_prep_path, 'w') as f:\n",
    "    json.dump(tp_dict, f, indent=\"  \")"
   ]
  },
  {
   "cell_type": "code",
   "execution_count": 5,
   "metadata": {},
   "outputs": [],
   "source": [
    "# execute this in a command-line environment after replacing the parameters\n",
    "!{dockstream_env}/bin/python {target_preparator} -conf {target_prep_path}"
   ]
  },
  {
   "cell_type": "markdown",
   "metadata": {},
   "source": [
    "This is it, now we have **(a)** fixed some minor issues with the input structure and **(b)** generated a reference ligand-based receptor and stored it in a binary file (have a look at the different files). For inspection later, we will write out the \"fixed\" PDB structure (parameter `fixed_pdb_path` in the `fixer` block above)."
   ]
  },
  {
   "cell_type": "markdown",
   "metadata": {},
   "source": [
    "## Docking\n",
    "In this section we consider a case, where we have just prepared the receptor and want to dock a bunch of ligands (molecules, compounds) into the binding cleft. Often, we only have the structure of the molecules in the form of `SMILES`, rather than a 3D structure so the first step will be to generate these conformers before proceeding. In `DockStream` you can embed your ligands with a variety of programs including `Corina`, `RDKit`, `OMEGA`, and `LigPrep` and use them freely with any backend. However, here we will use `RDkit`'s conformer embedding.\n",
    "\n",
    "But first, we will have a look at the ligands:"
   ]
  },
  {
   "cell_type": "code",
   "execution_count": 6,
   "metadata": {},
   "outputs": [
    {
     "name": "stdout",
     "output_type": "stream",
     "text": [
      "['C#CCCCn1c(Cc2cc(OC)c(OC)c(OC)c2Cl)nc2c(N)ncnc21', 'CCCCn1c(Cc2cc(OC)c(OC)c(OC)c2)nc2c(N)ncnc21', 'CCCCn1c(Cc2cc(OC)ccc2OC)nc2c(N)ncnc21', 'CCCCn1c(Cc2cccc(OC)c2)nc2c(N)ncnc21', 'C#CCCCn1c(Cc2cc(OC)c(OC)c(OC)c2Cl)nc2c(N)nc(F)nc21', 'CCCCn1c(Cc2ccc(OC)cc2)nc2c(N)ncnc21', 'CCCCn1c(Cc2ccc3c(c2)OCO3)nc2c(N)ncnc21', 'CCCCn1c(Cc2cc(OC)ccc2OC)nc2c(N)nc(F)nc21', 'CCCCn1c(Cc2ccc3c(c2)OCO3)nc2c(N)nc(F)nc21', 'C#CCCCn1c(Cc2cc(OC)ccc2OC)nc2c(N)nc(F)nc21', 'CC(C)NCCCn1c(Cc2cc3c(cc2I)OCO3)nc2c(N)nc(F)nc21', 'CC(C)NCCCn1c(Sc2cc3c(cc2Br)OCO3)nc2c(N)ncnc21', 'CC(C)NCCCn1c(Sc2cc3c(cc2I)OCO3)nc2c(N)ncnc21', 'COc1ccc(OC)c(Cc2nc3nc(F)nc(N)c3[nH]2)c1', 'Nc1nccn2c(NCc3ccccc3)c(Cc3cc4c(cc3Br)OCO4)nc12']\n"
     ]
    }
   ],
   "source": [
    "# load the smiles (just for illustrative purposes)\n",
    "# here, 15 moleucles will be used\n",
    "with open(smiles_path, 'r') as f:\n",
    "    smiles = [smile.strip() for smile in f.readlines()]\n",
    "print(smiles)"
   ]
  },
  {
   "cell_type": "markdown",
   "metadata": {},
   "source": [
    "While the embedding and docking tasks in `DockStream` are both specified in the same configuration file, they are handled independently. This means it is perfectly fine to either load conformers (from an `SDF` file) directly or to use a call of `docker.py` merely to generate conformers without doing the docking afterwards.\n",
    "\n",
    "`DockStream` uses the notion of (embedding) \"pool\"s, of which multiple can be specified and accessed via identifiers. Note, that while the way conformers are generated is highly backend specific, `DockStream` allows you to use the results interchangably. This allows to (a) re-use embedded molecules for multiple docking runs (e.g. different scoring functions), without the necessity to embed them more than once and (b) to combine embeddings and docking backends freely.\n",
    "\n",
    "One important feature is, that you can also specify an `align` block for the pools, which will try to align the conformers produced to the reference ligand's coordinates. Alignment is especially useful if your molecules have a large common sub-structure, as it will potentially enhance the results. **Warning:** At the moment, this feature is a bit unstable at times (potentially crashes, if no overlap of a ligand with the reference ligand can be found)."
   ]
  },
  {
   "cell_type": "code",
   "execution_count": null,
   "metadata": {},
   "outputs": [],
   "source": [
    "# specify the embedding and docking JSON file as a dictionary and write it out\n",
    "ed_dict = {\n",
    "  \"docking\": {\n",
    "    \"ligand_preparation\": {                      # the ligand preparation part, defines how to build the pool\n",
    "      \"embedding_pools\": [\n",
    "          {\n",
    "          \"pool_id\": \"RDkit_pool\",\n",
    "          \"type\": \"RDkit\",\n",
    "          \"parameters\": {\n",
    "            \"removeHs\": False,\n",
    "            \"coordinate_generation\": {\n",
    "              \"method\": \"UFF\",\n",
    "              \"maximum_iterations\": 300\n",
    "            }\n",
    "          },\n",
    "          \"input\": {\n",
    "            \"standardize_smiles\": False,\n",
    "            \"input_path\": smiles_path,\n",
    "            \"type\": \"smi\"\n",
    "          },\n",
    "          \"output\": {                            # the conformers can be written to a file, but \n",
    "                                                 # \"output\" is not required\n",
    "            \"conformer_path\": ligands_conformers_path,\n",
    "            \"format\": \"sdf\"\n",
    "          }\n",
    "        }\n",
    "      ]\n",
    "    },\n",
    "    \"docking_runs\": [\n",
    "      {\n",
    "        \"backend\": \"rDock\",                                 # specify the backend\n",
    "        \"run_id\": \"rDock_run\",                              # give any (unique) run ID\n",
    "        \"input_pools\": [\"RDkit_pool\"],                      # select, which pools should be used as input\n",
    "        \"parameters\": {                                     # these are backend-specific parameters\n",
    "          \"prefix_execution\": \"module load rDock\",\n",
    "          \"number_poses\": 2,\n",
    "          \"rbdock_prm_paths\": [rdock_updated_prm_path]\n",
    "        },\n",
    "        \"output\": {\n",
    "          \"poses\": { \"poses_path\": ligands_docked_path },\n",
    "          \"scores\": { \"scores_path\": ligands_scores_path }\n",
    "}}]}}\n",
    "\n",
    "with open(docking_path, 'w') as f:\n",
    "    json.dump(ed_dict, f, indent=2)\n",
    "\n",
    "# print out path to the generated JSON file\n",
    "print(docking_path)"
   ]
  },
  {
   "cell_type": "code",
   "execution_count": 8,
   "metadata": {},
   "outputs": [
    {
     "name": "stdout",
     "output_type": "stream",
     "text": [
      "[15:44:34] Molecule does not have explicit Hs. Consider calling AddHs()\n",
      "[15:44:34] Molecule does not have explicit Hs. Consider calling AddHs()\n",
      "[15:44:34] Molecule does not have explicit Hs. Consider calling AddHs()\n",
      "[15:44:34] Molecule does not have explicit Hs. Consider calling AddHs()\n",
      "[15:44:34] Molecule does not have explicit Hs. Consider calling AddHs()\n",
      "[15:44:34] Molecule does not have explicit Hs. Consider calling AddHs()\n",
      "[15:44:34] Molecule does not have explicit Hs. Consider calling AddHs()\n",
      "[15:44:34] Molecule does not have explicit Hs. Consider calling AddHs()\n",
      "[15:44:34] Molecule does not have explicit Hs. Consider calling AddHs()\n",
      "[15:44:34] Molecule does not have explicit Hs. Consider calling AddHs()\n",
      "[15:44:34] Molecule does not have explicit Hs. Consider calling AddHs()\n",
      "[15:44:35] Molecule does not have explicit Hs. Consider calling AddHs()\n",
      "[15:44:35] Molecule does not have explicit Hs. Consider calling AddHs()\n",
      "[15:44:35] Molecule does not have explicit Hs. Consider calling AddHs()\n",
      "[15:44:35] Molecule does not have explicit Hs. Consider calling AddHs()\n",
      "[15:44:35] Molecule does not have explicit Hs. Consider calling AddHs()\n",
      "[15:44:35] Molecule does not have explicit Hs. Consider calling AddHs()\n",
      "[15:44:35] Molecule does not have explicit Hs. Consider calling AddHs()\n",
      "[15:44:35] Molecule does not have explicit Hs. Consider calling AddHs()\n",
      "[15:44:35] Molecule does not have explicit Hs. Consider calling AddHs()\n",
      "[15:44:35] Molecule does not have explicit Hs. Consider calling AddHs()\n",
      "[15:44:35] Molecule does not have explicit Hs. Consider calling AddHs()\n",
      "[15:44:35] Molecule does not have explicit Hs. Consider calling AddHs()\n",
      "[15:44:35] Molecule does not have explicit Hs. Consider calling AddHs()\n",
      "[15:44:35] Molecule does not have explicit Hs. Consider calling AddHs()\n",
      "[15:44:35] Molecule does not have explicit Hs. Consider calling AddHs()\n",
      "[15:44:35] Molecule does not have explicit Hs. Consider calling AddHs()\n",
      "[15:44:35] Molecule does not have explicit Hs. Consider calling AddHs()\n",
      "[15:44:35] Molecule does not have explicit Hs. Consider calling AddHs()\n",
      "[15:44:35] Molecule does not have explicit Hs. Consider calling AddHs()\n",
      "18.1947\n",
      "13.4089\n",
      "28.3073\n",
      "15.2382\n",
      "19.3089\n",
      "-1.72822\n",
      "16.2816\n",
      "20.2331\n",
      "8.43219\n",
      "26.0192\n",
      "12.4569\n",
      "31.7193\n",
      "11.1389\n",
      "2.43589\n",
      "2.7385\n"
     ]
    }
   ],
   "source": [
    "# execute this in a command-line environment after replacing the parameters\n",
    "!{dockstream_env}/bin/python {docker} -conf {docking_path} -print_scores"
   ]
  },
  {
   "cell_type": "markdown",
   "metadata": {},
   "source": [
    "Note, that the scores are usually outputted to a `CSV` file specified by the `scores` block, but that since we have used parameter `-print_scores` they will also be printed to `stdout` (line-by-line).\n",
    "\n",
    "These scores are associated with docking poses (see picture below for a couple of ligands overlaid in the binding pocket).\n",
    "\n",
    "![](img/docked_ligands_overlay_holo.png)"
   ]
  },
  {
   "cell_type": "markdown",
   "metadata": {},
   "source": [
    "## Using `DockStream` as a scoring component in `REINVENT`\n",
    "The *de novo* design platform `REINVENT` holds a recently added `DockStream` scoring function component (also check out our collection of notebooks in the [ReinventCommunity](https://github.com/MolecularAI/ReinventCommunity) repository). This means, provided that all necessary input files and configurations are available, you may run `REINVENT` and incorporate docking scores into the score of the compounds generated. Together with `FastROCS`, this represents the first step to integrate physico-chemical 3D information.\n",
    "\n",
    "While the docking scores are a very crude proxy for the actual binding affinity (at best), it does prove useful as a *geometric filter* (removing ligands that obviously do not fit the binding cavity). Furthermore, a severe limitation of knowledge-based predictions e.g. in activity models is the domain applicability. Docking, as a chemical space agnostic component, can enhance the ability of the agent for scaffold-hopping, i.e. to explore novel sub-areas in the chemical space.\n",
    "\n",
    "### The `REINVENT` configuration JSON\n",
    "\n",
    "While every docking backend has its own configuration (see section above), calling `DockStream`'s `docker.py` entry point ensures that they all follow the same external API. Thus the component that needs to be added to `REINVENT`'s JSON configuration (to the `scoring_function`->`parameters` list) looks as follows (irrespective of the backend):\n",
    "\n",
    "```\n",
    "{\n",
    "    \"component_type\": \"dockstream\",\n",
    "    \"name\": \"dockstream\",\n",
    "    \"weight\": 1,\n",
    "    \"specific_parameters\": {\n",
    "        \"transformation\": {\n",
    "            \"transformation_type\": \"reverse_sigmoid\",\n",
    "            \"low\": -50,\n",
    "            \"high\": -25,\n",
    "            \"k\": 0.25\n",
    "         },\n",
    "        \"configuration_path\": \"<absolute_path_to_DockStream_configuration>/docking.json\",\n",
    "        \"docker_script_path\": \"<absolute_path_to_DockStream_source>/docker.py\",\n",
    "        \"environment_path\": \"<absolute_path_to_miniconda_installation>/envs/DockStream/bin/python\"\n",
    "    }\n",
    "}\n",
    "```\n",
    "\n",
    "You will need to update `configuration_path`, `docker_script_path` and the link to the environment, `environment_path` to match your system's configuration. It might be, that the latter two are already set to meaningful defaults, but your `DockStream` configuration JSON file will be specific for each run. \n",
    "\n",
    "#### How to find an appropriate transformation?\n",
    "We use a *reverse sigmoid* score transformation to bring the numeric, continuous value that was outputted by `DockStream` and fed back to `REINVENT` into a 0 to 1 regime. The parameters `low`, `high` and `k` are critical: their exact value naturally depends on the backend used, but also on the scoring function (make sure that \"more negative\" means \"better\" - otherwise you are looking for a *sigmoid* transformation) and potentially also the project used. The values reported here can be used as rule-of-thumb for an `rDock` run with its default docking score definition.\n",
    "\n",
    "To fine-tune your parameters, it might be a good idea to run a couple of molecules using your docking protocol and subsequently decide how the transformation should be adjusted. For example, if your test run yields, say, -11.9, -12.9 and -9.8 for *good* ligands and -5.8, -7.1 and -6.5 for *decoys*, you could adjust `k`, `low`and `high` such, that it assignes a score close to `1` for everything below -10 and a score close to `0` for everything above -6, with a somewhat \"smooth\" interpolation which is set by parameter `k` (so that the agent \"can-pick-up-the-trail\"). Of course, you do not necessarily need decoys as long as you know in which docking score range you would like to stay. We strongly recommend to use the `REINVENT` score transformation `jupyter` notebook for this purpose.\n"
   ]
  },
  {
   "cell_type": "code",
   "execution_count": 9,
   "metadata": {},
   "outputs": [],
   "source": [
    "# load the dependencies and classes used\n",
    "%run code/score_transformation.py\n",
    "\n",
    "# set plotting parameters\n",
    "small = 12\n",
    "med = 16\n",
    "large = 22\n",
    "params = {\"axes.titlesize\": large,\n",
    "          \"legend.fontsize\": med,\n",
    "          \"figure.figsize\": (16, 10),\n",
    "          \"axes.labelsize\": med,\n",
    "          \"axes.titlesize\": med,\n",
    "          \"xtick.labelsize\": med,\n",
    "          \"ytick.labelsize\": med,\n",
    "          \"figure.titlesize\": large}\n",
    "plt.rcParams.update(params)\n",
    "plt.style.use(\"seaborn-whitegrid\")\n",
    "sns.set_style(\"white\")\n",
    "%matplotlib inline\n",
    "\n",
    "# set up Enums and factory\n",
    "tt_enum = TransformationTypeEnum()\n",
    "csp_enum = ComponentSpecificParametersEnum()\n",
    "factory = TransformationFactory()"
   ]
  },
  {
   "cell_type": "code",
   "execution_count": 10,
   "metadata": {},
   "outputs": [
    {
     "data": {
      "image/png": "[encoded data removed]",
      "text/plain": [
       "<Figure size 1280x800 with 1 Axes>"
      ]
     },
     "metadata": {
      "needs_background": "light"
     },
     "output_type": "display_data"
    }
   ],
   "source": [
    "# reverse sigmoid transformation\n",
    "# ---------\n",
    "values_list = np.arange(-70, -5, 0.25).tolist()\n",
    "specific_parameters = {csp_enum.TRANSFORMATION: True,\n",
    "                       csp_enum.LOW: -50,\n",
    "                       csp_enum.HIGH: -25,\n",
    "                       csp_enum.K: 0.25,\n",
    "                       csp_enum.TRANSFORMATION_TYPE: tt_enum.REVERSE_SIGMOID}\n",
    "transform_function = factory.get_transformation_function(specific_parameters)\n",
    "transformed_scores = transform_function(predictions=values_list,\n",
    "                                        parameters=specific_parameters)\n",
    "\n",
    "# render the curve\n",
    "render_curve(title=\"Reverse Sigmoid Transformation\", x=values_list, y=transformed_scores)"
   ]
  },
  {
   "cell_type": "markdown",
   "metadata": {},
   "source": [
    "### How to specify the `DockStream` configuration file?\n",
    "In principle, all options that are supported in a \"normal\" `DockStream` run (see above) are supported for usage with `REINVENT` as well, with a few notable exceptions. First, as we report only one value per ligand (and a \"consensus score\" is not yet supported), you should only use **one** embedding / pool and **one** backend (as in the example above). Second, the prospective ligands are not supplied via a file but from `stdin`, thus we will need to change the `input` part of the pool definition. Also, we might not want to write-out all conformers, so we will remove the `output` block entirely. The updated section then looks as follows:\n",
    "\n",
    "```\n",
    "{\n",
    "    \"pool_id\": \"RDkit_pool\",\n",
    "    \"type\": \"RDkit\",\n",
    "    \"parameters\": {\n",
    "        \"removeHs\": False,\n",
    "        \"coordinate_generation\": {\n",
    "              \"method\": \"UFF\",\n",
    "              \"maximum_iterations\": 300\n",
    "        }\n",
    "     },\n",
    "     \"input\": {\n",
    "         \"standardize_smiles\": False\n",
    "     }\n",
    "}\n",
    "```        \n",
    "\n",
    "Finally, we will update the docking run as well. Typically, we want to see the docked poses per epoch and maybe also the scores and the SMILES in a well-tabulated format. Thus, we might retain the `output` block here, but as every epoch generates each of the files, it would overwrite it by default. If parameter `overwrite` is set to `False`, each consecutive write-out will be appended by a number, e.g. first epoch *poses.sdf* and *scores.csv*, second epoch *0001_poses.sdf* and *0001_scores.csv*, third epoch *0002_poses.sdf* and *0002_scores.csv* and so on.\n",
    "\n",
    "```\n",
    "{\n",
    "    \"backend\": \"rDock\",\n",
    "    \"run_id\": \"rDock_run\",\n",
    "    \"input_pools\": [\"RDkit_pool\"],\n",
    "    \"parameters\": {\n",
    "          \"prefix_execution\": \"module load rDock\",\n",
    "          \"number_poses\": 2,\n",
    "          \"rbdock_prm_path\": rdock_updated_prm_path\n",
    "        },\n",
    "        \"output\": {\n",
    "          \"poses\": { \"poses_path\": <absolute_path_to_poses_stem_file>/poses.sdf,\n",
    "                     \"overwrite\": False },\n",
    "          \"scores\": { \"scores_path\": <absolute_path_to_scores_stem_file>/scores.csv,\n",
    "                      \"overwrite\": False }\n",
    "}\n",
    "```"
   ]
  }
 ],
 "metadata": {
  "kernelspec": {
   "display_name": "Python 3 (ipykernel)",
   "language": "python",
   "name": "python3"
  },
  "language_info": {
   "codemirror_mode": {
    "name": "ipython",
    "version": 3
   },
   "file_extension": ".py",
   "mimetype": "text/x-python",
   "name": "python",
   "nbconvert_exporter": "python",
   "pygments_lexer": "ipython3",
   "version": "3.9.6"
  }
 },
 "nbformat": 4,
 "nbformat_minor": 2
}
