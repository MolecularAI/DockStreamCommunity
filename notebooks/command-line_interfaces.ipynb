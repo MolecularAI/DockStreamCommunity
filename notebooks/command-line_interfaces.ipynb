{
 "cells": [
  {
   "cell_type": "markdown",
   "metadata": {},
   "source": [
    "<div class=\"alert alert-block alert-info\">\n",
    "<b>How to run this notebook?</b><br />\n",
    "<ol>\n",
    "    <li>Install the DockStream environment: conda env create -f environment.yml in the DockStream directory</li>\n",
    "    <li>Activate the environment: conda activate DockStreamCommunity</li>\n",
    "    <li>Execute jupyter: jupyter notebook</li>\n",
    "    <li> Copy the link to a browser</li>\n",
    "    <li> Update variables <b>dockstream_path</b> and <b>dockstream_env</b> (the path to the environment DockStream) in the \n",
    "        first code block below</li>\n",
    "    </ol>\n",
    "</div>\n",
    "\n",
    "# Command-Line Interfaces\n",
    "While `DockStream` can be loaded as a library, the most common use-case is to call a command-line interface (e.g. implicitly when using `REINVENT`). The entry points described below are currently supported and are explained together with the available parameters. To execute them, we need to either load the `conda` environment before or specify the full path to the `python` version we want to use (here, we will make use of the latter option)."
   ]
  },
  {
   "cell_type": "code",
   "execution_count": 1,
   "metadata": {},
   "outputs": [],
   "source": [
    "import os\n",
    "import json\n",
    "import tempfile\n",
    "\n",
    "# update these paths to reflect your system's configuration\n",
    "dockstream_path = os.path.expanduser(\"~/Desktop/ProjectData/DockStream\")\n",
    "dockstream_env = os.path.expanduser(\"~/miniconda3/envs/DockStream\")\n",
    "dockstreamcommunity_env = os.path.expanduser(\"~/miniconda3/envs/DockStreamCommunity\")\n",
    "\n",
    "# generate the paths to the entry points\n",
    "target_preparator = os.path.join(dockstream_path, \"target_preparator.py\")\n",
    "docker = os.path.join(dockstream_path, \"docker.py\")\n",
    "sdf2smiles = os.path.join(dockstream_path, \"sdf2smiles.py\")\n",
    "unit_tests = os.path.join(dockstream_path, \"unit_tests.py\")\n",
    "benchmarking = os.path.join(dockstream_path, \"benchmarking.py\")\n",
    "analysis = os.path.join(dockstream_path, \"analysis.py\")"
   ]
  },
  {
   "cell_type": "markdown",
   "metadata": {},
   "source": [
    "## General Options\n",
    "Most command-line interfaces support the `-h` (or `--help`) flag, which will cause the script to ignore all other options set and print a usage description. Another common option is `-log_conf`, which is optional and allows to set the logging configuration (see `config/logging` subfolder of `DockStream` for examples). By default, only important messages (`Error` and `Warning` levels) are logged out, but by using the `-log_conf` parameter, users can utilize their own definitions. The recommended way, however, to obtain more detailed logging messages (for example when debugging a run), is to use the `-debug` flag.\n",
    "\n",
    "## `target_preparator.py`\n",
    "For all backends we need to define the target in a specific format. Depending on the backend, these files hold information on the location of the binding site, constraintes, etc. - except for `Glide`, we can use this command line tool to generate the receptors (please see the respective notebooks for details). While the major input is a `JSON` file defining the preparation run (set by the only mandatory parameter, `-conf`), you can tweak the behaviour also by setting additional parameters."
   ]
  },
  {
   "cell_type": "code",
   "execution_count": 2,
   "metadata": {},
   "outputs": [
    {
     "name": "stdout",
     "output_type": "stream",
     "text": [
      "usage: target_preparator.py [-h] [-conf CONF] [-validation VALIDATION]\r\n",
      "                            [-silent SILENT] [-debug] [-log_conf LOG_CONF]\r\n",
      "\r\n",
      "Implements entry point for the target preparation for one or multiple\r\n",
      "backends.\r\n",
      "\r\n",
      "optional arguments:\r\n",
      "  -h, --help            show this help message and exit\r\n",
      "  -conf CONF            A path to an preparation configuration file (JSON\r\n",
      "                        dictionary) that is to be executed.\r\n",
      "  -validation VALIDATION\r\n",
      "                        If set to False, this flag will prohibit a JSON Schema\r\n",
      "                        validation.\r\n",
      "  -silent SILENT        If set, the program will silently execute without\r\n",
      "                        printing status updates.\r\n",
      "  -debug                Set this flag to activate the inbuilt debug logging\r\n",
      "                        mode (this will overwrite parameter \"-log_conf\", if\r\n",
      "                        set).\r\n",
      "  -log_conf LOG_CONF    Set absolute path to a logger configuration other than\r\n",
      "                        the default stored at \"config/logging/default.json\".\r\n"
     ]
    }
   ],
   "source": [
    "# execute this in a command-line environment after replacing the parameters\n",
    "!{dockstream_env}/bin/python {target_preparator} -h"
   ]
  },
  {
   "cell_type": "markdown",
   "metadata": {},
   "source": [
    "## `unit_tests.py`\n",
    "This entry point does not have any parameters but it might be a good idea to check any new installation by executing:\n",
    "\n",
    "```\n",
    "<path_to_environment>/python unit_tests.py\n",
    "```\n",
    "\n",
    "**Note:** Some of them might fail if they require a software dependency that is not found or not installed on your system."
   ]
  },
  {
   "cell_type": "markdown",
   "metadata": {},
   "source": [
    "## `docker.py`\n",
    "This is the main component of `DockStream` and performs its tasks based on the instruction `JSON` file provided with the `-conf` parameter. Note, that the `-validation` parameter is not yet functional."
   ]
  },
  {
   "cell_type": "code",
   "execution_count": 3,
   "metadata": {},
   "outputs": [
    {
     "name": "stdout",
     "output_type": "stream",
     "text": [
      "usage: docker.py [-h] -conf CONF [-validation VALIDATION] [-silent SILENT]\r\n",
      "                 [-smiles SMILES] [-print_scores] [-print_all] [-debug]\r\n",
      "                 [-log_conf LOG_CONF] [-output_prefix OUTPUT_PREFIX]\r\n",
      "                 [-input_csv INPUT_CSV]\r\n",
      "                 [-input_csv_smiles_column INPUT_CSV_SMILES_COLUMN]\r\n",
      "                 [-input_csv_names_column INPUT_CSV_NAMES_COLUMN]\r\n",
      "\r\n",
      "Implements entry point for the docking using one or multiple backends.\r\n",
      "\r\n",
      "optional arguments:\r\n",
      "  -h, --help            show this help message and exit\r\n",
      "  -conf CONF            A path to an docking configuration file (JSON\r\n",
      "                        dictionary) that is to be executed.\r\n",
      "  -validation VALIDATION\r\n",
      "                        If set to False, this flag will prohibit a JSON Schema\r\n",
      "                        validation.\r\n",
      "  -silent SILENT        If set, the program will silently execute without\r\n",
      "                        printing status updates.\r\n",
      "  -smiles SMILES        Use this flag to hand over the input SMILES over the\r\n",
      "                        command-line, separated by ';'.\r\n",
      "  -print_scores         Set this flag to activate linewise print-outs of the\r\n",
      "                        scores to the shell.\r\n",
      "  -print_all            Set this flag (together with \"-print_scores\") to print\r\n",
      "                        out the scores for all conformers, not just the best\r\n",
      "                        one.\r\n",
      "  -debug                Set this flag to activate the inbuilt debug logging\r\n",
      "                        mode (this will overwrite parameter \"-log_conf\", if\r\n",
      "                        set).\r\n",
      "  -log_conf LOG_CONF    Set absolute path to a logger configuration other than\r\n",
      "                        the default stored at \"config/logging/default.json\".\r\n",
      "  -output_prefix OUTPUT_PREFIX\r\n",
      "                        If specified, this prefix will be added to all output\r\n",
      "                        file names.\r\n",
      "  -input_csv INPUT_CSV  If set (a path to a CSV file), this will overwrite any\r\n",
      "                        input file specification in the configuration.\r\n",
      "  -input_csv_smiles_column INPUT_CSV_SMILES_COLUMN\r\n",
      "                        If \"-input_csv\" is set, you need to specify the column\r\n",
      "                        name with the smiles as well.\r\n",
      "  -input_csv_names_column INPUT_CSV_NAMES_COLUMN\r\n",
      "                        Optional name of the name column, if \"-input_csv\" is\r\n",
      "                        specified.\r\n"
     ]
    }
   ],
   "source": [
    "# execute this in a command-line environment after replacing the parameters\n",
    "!{dockstream_env}/bin/python {docker} -h"
   ]
  },
  {
   "cell_type": "markdown",
   "metadata": {},
   "source": [
    "The interface to `REINVENT` is facilitated via the `-smiles` and `-print_scores` options (for input and output, respectively). In addition, `-output_prefix` is used to add the epoch number from `REINVENT` to the file names. Option `-print_scores` (without `-print_all` activated) causes `DockStream` to print the best score per ligand (not conformation nor enumeration) to `stdout`."
   ]
  },
  {
   "cell_type": "markdown",
   "metadata": {},
   "source": [
    "## `sdf2smiles.py`\n",
    "This is a simple convenience script that takes an `SDF` file as input and produces a text file with one `SMILE` per line for each molecule. This can be directly used as input for `DockStream`."
   ]
  },
  {
   "cell_type": "code",
   "execution_count": 4,
   "metadata": {},
   "outputs": [
    {
     "name": "stdout",
     "output_type": "stream",
     "text": [
      "usage: sdf2smiles.py [-h] [-sdf SDF] [-smi SMI] [-csv CSV] [-keep_stereo]\r\n",
      "                     [-tags2columns TAGS2COLUMNS [TAGS2COLUMNS ...]]\r\n",
      "\r\n",
      "Implements simple translator taking an SDF file and spitting out SMILES.\r\n",
      "\r\n",
      "optional arguments:\r\n",
      "  -h, --help            show this help message and exit\r\n",
      "  -sdf SDF              A path a SDF file.\r\n",
      "  -smi SMI              A path an output text file.\r\n",
      "  -csv CSV              A path an output CSV file.\r\n",
      "  -keep_stereo          If set, exported SMILES contain stereo-information.\r\n",
      "  -tags2columns TAGS2COLUMNS [TAGS2COLUMNS ...]\r\n",
      "                        A list of strings for which tags should be transformed\r\n",
      "                        into columns.\r\n"
     ]
    }
   ],
   "source": [
    "!{dockstream_env}/bin/python {sdf2smiles} -h"
   ]
  },
  {
   "cell_type": "markdown",
   "metadata": {},
   "source": [
    "## `benchmarking.py`\n",
    "This script facilitates batch execution of `DockStream`. A folder containing any number of configuration `JSONs` can be passed to the `-input_path` parameter. See `demo_Benchmarking_Script` for details."
   ]
  },
  {
   "cell_type": "code",
   "execution_count": 5,
   "metadata": {},
   "outputs": [
    {
     "name": "stdout",
     "output_type": "stream",
     "text": [
      "usage: benchmarking.py [-h] -input_path INPUT_PATH\r\n",
      "\r\n",
      "Facilitates batch DockStream execution.\r\n",
      "\r\n",
      "optional arguments:\r\n",
      "  -h, --help            show this help message and exit\r\n",
      "  -input_path INPUT_PATH\r\n",
      "                        The path to either a folder of DockStream json files\r\n",
      "                        or a single json file.\r\n"
     ]
    }
   ],
   "source": [
    "# execute this in a command-line environment after replacing the parameters\n",
    "!{dockstream_env}/bin/python {benchmarking} -h"
   ]
  },
  {
   "cell_type": "markdown",
   "metadata": {},
   "source": [
    "## `analysis.py`\n",
    "This script automates analysis of `DockStream` results. A configuration `JSON` can be passed to the `-input_json` parameter to denote the analysis mode. See `demo_Analysis_Script` for details."
   ]
  },
  {
   "cell_type": "code",
   "execution_count": 6,
   "metadata": {},
   "outputs": [
    {
     "name": "stdout",
     "output_type": "stream",
     "text": [
      "usage: analysis.py [-h] -input_json INPUT_JSON\r\n",
      "\r\n",
      "Implements entry point to DockStream output analysis.\r\n",
      "\r\n",
      "optional arguments:\r\n",
      "  -h, --help            show this help message and exit\r\n",
      "  -input_json INPUT_JSON\r\n",
      "                        Path to user provided json file which contains all the\r\n",
      "                        paths/metrics for analysis.\r\n"
     ]
    }
   ],
   "source": [
    "# execute this in a command-line environment after replacing the parameters\n",
    "!{dockstreamcommunity_env}/bin/python {analysis} -h"
   ]
  }
 ],
 "metadata": {
  "kernelspec": {
   "display_name": "Python 3",
   "language": "python",
   "name": "python3"
  },
  "language_info": {
   "codemirror_mode": {
    "name": "ipython",
    "version": 3
   },
   "file_extension": ".py",
   "mimetype": "text/x-python",
   "name": "python",
   "nbconvert_exporter": "python",
   "pygments_lexer": "ipython3",
   "version": "3.8.3"
  }
 },
 "nbformat": 4,
 "nbformat_minor": 2
}
