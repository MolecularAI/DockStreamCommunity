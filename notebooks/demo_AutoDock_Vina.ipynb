{
 "cells": [
  {
   "cell_type": "markdown",
   "metadata": {},
   "source": [
    "<div class=\"alert alert-block alert-info\">\n",
    "<b>How to run this notebook?</b><br />\n",
    "<ol>\n",
    "    <li>Install the DockStream environment: conda env create -f environment.yml in the DockStream directory</li>\n",
    "    <li>Activate the environment: conda activate DockStreamCommunity</li>\n",
    "    <li>Execute jupyter: jupyter notebook</li>\n",
    "    <li> Copy the link to a browser</li>\n",
    "    <li> Update variables <b>dockstream_path</b> and <b>dockstream_env</b> (the path to the environment DockStream) in the \n",
    "        first code block below</li>\n",
    "    </ol>\n",
    "</div>\n",
    "\n",
    "<div class=\"alert alert-block alert-warning\">\n",
    "    <b>Caution:</b>\n",
    "    Make sure, you have the AutoDock Vina binary available somewhere.\n",
    "</div>\n",
    "\n",
    "# `AutoDock Vina` backend demo\n",
    "This notebook will demonstrate how to **(a)** set up a `AutoDock Vina` backend run with `DockStream`, including the most important settings and **(b)** how to set up a `REINVENT` run with `AutoDock` docking enabled as one of the scoring function components.\n",
    "\n",
    "**Steps:**\n",
    "* a: Set up `DockStream` run\n",
    "  1. Prepare the receptor\n",
    "  2. Prepare the input: SMILES and configuration file (JSON format)\n",
    "  3. Execute the docking and parse the results\n",
    "* b: Set up `REINVENT` run with a `DockStream` component\n",
    "  1. Prepare the receptor (see *a.1*)\n",
    "  2. Prepare the input (see *a.2*)\n",
    "  3. Prepare the `REINVENT` configuration (JSON format)\n",
    "  4. Execute `REINVENT`\n",
    "\n",
    "The following imports / loadings are only necessary when executing this notebook. If you want to use `DockStream` directly from the command-line, it is enough to execute the following with the appropriate configurations:\n",
    "\n",
    "```\n",
    "conda activate DockStream\n",
    "python /path/to/DockStream/target_preparator.py -conf target_prep.json\n",
    "python /path/to/DockStream/docker.py -conf docking.json\n",
    "```"
   ]
  },
  {
   "cell_type": "code",
   "execution_count": 1,
   "metadata": {},
   "outputs": [],
   "source": [
    "import os\n",
    "import json\n",
    "import tempfile\n",
    "\n",
    "# update these paths to reflect your system's configuration\n",
    "dockstream_path = os.path.expanduser(\"~/Desktop/ProjectData/DockStream\")\n",
    "dockstream_env = os.path.expanduser(\"~/miniconda3/envs/DockStream\")\n",
    "vina_binary_location = os.path.expanduser(\"~/Desktop/ProjectData/foreign/AutoDockVina/autodock_vina_1_1_2_linux_x86/bin\")\n",
    "\n",
    "# no changes are necessary beyond this point\n",
    "# ---------\n",
    "# get the notebook's root path\n",
    "try: ipynb_path\n",
    "except NameError: ipynb_path = os.getcwd()\n",
    "\n",
    "# generate the paths to the entry points\n",
    "target_preparator = dockstream_path + \"/target_preparator.py\"\n",
    "docker = dockstream_path + \"/docker.py\"\n",
    "\n",
    "# generate a folder to store the results\n",
    "output_dir = os.path.expanduser(\"~/Desktop/AutoDock_Vina_demo\")\n",
    "try:\n",
    "    os.mkdir(output_dir)\n",
    "except FileExistsError:\n",
    "    pass"
   ]
  },
  {
   "cell_type": "code",
   "execution_count": 2,
   "metadata": {},
   "outputs": [],
   "source": [
    "# generate the paths to the files shipped with this implementation\n",
    "apo_1UYD_path = ipynb_path + \"/../data/1UYD/1UYD_apo.pdb\"\n",
    "reference_ligand_path = ipynb_path + \"/../data/1UYD/PU8.pdb\"\n",
    "smiles_path = ipynb_path + \"/../data/1UYD/ligands_smiles.txt\"\n",
    "\n",
    "# generate output paths for the configuration file, the \"fixed\" PDB file and the \"Gold\" receptor\n",
    "target_prep_path = output_dir + \"/ADV_target_prep.json\"\n",
    "fixed_pdb_path = output_dir + \"/ADV_fixed_target.pdb\"\n",
    "adv_receptor_path = output_dir + \"/ADV_receptor.pdbqt\"\n",
    "log_file_target_prep = output_dir + \"/ADV_target_prep.log\"\n",
    "log_file_docking = output_dir + \"/ADV_docking.log\"\n",
    "\n",
    "# generate output paths for the configuration file, embedded ligands, the docked ligands and the scores\n",
    "docking_path = output_dir + \"/ADV_docking.json\"\n",
    "ligands_conformers_path = output_dir + \"/ADV_embedded_ligands.sdf\"\n",
    "ligands_docked_path = output_dir + \"/ADV_ligands_docked.sdf\"\n",
    "ligands_scores_path = output_dir + \"/ADV_scores.csv\""
   ]
  },
  {
   "cell_type": "markdown",
   "metadata": {},
   "source": [
    "## Target preparation\n",
    "`AutoDock Vina` uses the `PDBQT` format for both the receptors and the (individual ligands). First, we will generate the receptor into which we want to dock the molecules. This is a semi-automated process and while `DockStream` has an entry point to help you setting this up, it might be wise to think about the details of this process beforehand, including:\n",
    "* Is my target structure complete (e.g. has it missing loops in the area of interest)?\n",
    "* Do I have a reference ligand in a complex (holo) structure or do I need to define the binding cleft (cavity) in a different manner?\n",
    "* Do I want to keep the crystal water molecules, potential co-factors and such or not?\n",
    "\n",
    "This step has to be done once per project and target. Typically, we start from a PDB file with a holo-structure, that is, a protein with its ligand. Using a holo-structure as input is convenient for two reasons:\n",
    "1. The cavity can be specified as being a certain area around the ligand in the protein (assuming the binding mode does not change too much).\n",
    "2. One can align other ligands (often a series with considerable similarity is used in docking studies) to the \"reference ligand\", potentially improving the performance.\n",
    "\n",
    "![](img/target_preparation_template_method.png)\n",
    "\n",
    "For this notebook, it is assumed that you are able to\n",
    "\n",
    "1. download `1UYD` and\n",
    "2. split it into `1UYD_apo.pdb` and `reference_ligand.pdb` (name is `PU8` in the file), respectively.\n",
    "\n",
    "We will now set up the JSON instruction file for the target preparator that will help us build a receptor suitable for `AutoDock Vina` docking later. We will also include a small section (internally using [PDBFixer](https://github.com/openmm/pdbfixer)) that will take care of minor problems of the input structure, such as missing hetero atoms - but of course you can address these things with a program of your choice as well. We will write the JSON to the output folder in order to load it with the `target_preparator.py` entry point of `DockStream`.\n",
    "\n",
    "Note, that we can use the (optional) `extract_box` block in the configuration to specify the cavity's box (the area where the algorithm will strive to optimize the poses). For this we simply specify a reference ligand and the algorithm will extract the center-of-geometry and the minimum and maximum values for all three axes. This information is printed to the log file and can be used to specify the cavity in the docking step."
   ]
  },
  {
   "cell_type": "code",
   "execution_count": 3,
   "metadata": {},
   "outputs": [],
   "source": [
    "# specify the target preparation JSON file as a dictionary and write it out\n",
    "tp_dict = {\n",
    "  \"target_preparation\":\n",
    "  {\n",
    "    \"header\": {                                   # general settings\n",
    "      \"logging\": {                                # logging settings (e.g. which file to write to)\n",
    "        \"logfile\": log_file_target_prep\n",
    "      }\n",
    "    },\n",
    "    \"input_path\": apo_1UYD_path,                  # this should be an absolute path\n",
    "    \"fixer\": {                                    # based on \"PDBFixer\"; tries to fix common problems with PDB files\n",
    "      \"enabled\": True,\n",
    "      \"standardize\": True,                        # enables standardization of residues\n",
    "      \"remove_heterogens\": True,                  # remove hetero-entries\n",
    "      \"fix_missing_heavy_atoms\": True,            # if possible, fix missing heavy atoms\n",
    "      \"fix_missing_hydrogens\": True,              # add hydrogens, which are usually not present in PDB files\n",
    "      \"fix_missing_loops\": False,                 # add missing loops; CAUTION: the result is usually not sufficient\n",
    "      \"add_water_box\": False,                     # if you want to put the receptor into a box of water molecules\n",
    "      \"fixed_pdb_path\": fixed_pdb_path            # if specified and not \"None\", the fixed PDB file will be stored here\n",
    "    },\n",
    "    \"runs\": [                                     # \"runs\" holds a list of backend runs; at least one is required\n",
    "      {\n",
    "        \"backend\": \"AutoDockVina\",                # one of the backends supported (\"AutoDockVina\", \"OpenEye\", ...)\n",
    "        \"output\": {\n",
    "          \"receptor_path\": adv_receptor_path      # the generated receptor file will be saved to this location\n",
    "        },\n",
    "        \"parameters\": {\n",
    "          \"pH\": 7.4,                              # sets the protonation states (NOT used in Vina)\n",
    "          \"extract_box\": {                        # in order to extract the coordinates of the pocket (see text)\n",
    "            \"reference_ligand_path\": reference_ligand_path,   # path to the reference ligand\n",
    "            \"reference_ligand_format\": \"PDB\"                  # format of the reference ligand\n",
    "          }\n",
    "}}]}}\n",
    "\n",
    "with open(target_prep_path, 'w') as f:\n",
    "    json.dump(tp_dict, f, indent=\"    \")"
   ]
  },
  {
   "cell_type": "code",
   "execution_count": 4,
   "metadata": {},
   "outputs": [
    {
     "name": "stdout",
     "output_type": "stream",
     "text": [
      "REMARK  Name = /tmp/tmponfdi39q.pdb\r\n",
      "REMARK                            x       y       z     vdW  Elec       q    Type\r\n",
      "REMARK                         _______ _______ _______ _____ _____    ______ ____\r\n",
      "ATOM      1  N   GLU A   1       6.484  28.442  39.441  0.00  0.00    +0.386 N \r\n",
      "ATOM      2  CA  GLU A   1       7.718  28.546  38.611  0.00  0.00    -0.005 C \r\n",
      "ATOM      3  C   GLU A   1       7.625  27.706  37.277  0.00  0.00    +0.199 C \r\n",
      "ATOM      4  O   GLU A   1       7.333  26.478  37.304  0.00  0.00    -0.278 OA\r\n",
      "ATOM      5  CB  GLU A   1       8.951  28.140  39.474  0.00  0.00    -0.048 C \r\n",
      "ATOM      6  CG  GLU A   1       9.355  26.647  39.367  0.00  0.00    +0.048 C \r\n",
      "ATOM      7  CD  GLU A   1      10.138  26.088  40.562  0.00  0.00    +0.356 C \r\n",
      "ATOM      8  OE1 GLU A   1      11.022  26.816  41.117  0.00  0.00    -0.246 OA\r\n",
      "ATOM      9  OE2 GLU A   1       9.875  24.900  40.943  0.00  0.00    -0.246 OA\r\n",
      "ATOM     10  N   VAL A   2       7.856  28.355  36.137  0.00  0.00    -0.305 N \r\n",
      "ATOM     11  CA  VAL A   2       8.110  27.634  34.889  0.00  0.00    +0.102 C \r\n",
      "ATOM     12  C   VAL A   2       9.523  27.050  34.954  0.00  0.00    +0.234 C \r\n",
      "ATOM     13  O   VAL A   2      10.499  27.794  35.209  0.00  0.00    -0.274 OA\r\n",
      "ATOM     14  CB  VAL A   2       7.967  28.556  33.636  0.00  0.00    -0.020 C \r\n",
      "ATOM     15  CG1 VAL A   2       8.234  27.763  32.310  0.00  0.00    -0.061 C \r\n",
      "ATOM     16  CG2 VAL A   2       6.598  29.245  33.609  0.00  0.00    -0.061 C \r\n",
      "ATOM     17  N   GLU A   3       9.626  25.731  34.766  0.00  0.00    -0.302 N \r\n",
      "ATOM     18  CA  GLU A   3      10.912  25.034  34.705  0.00  0.00    +0.100 C \r\n",
      "ATOM     19  C   GLU A   3      11.363  24.695  33.258  0.00  0.00    +0.234 C \r\n",
      "ATOM     20  O   GLU A   3      10.557  24.225  32.446  0.00  0.00    -0.274 OA\r\n",
      "ATOM     21  CB  GLU A   3      10.872  23.762  35.555  0.00  0.00    -0.016 C \r\n",
      "ATOM     22  CG  GLU A   3      10.774  24.017  37.048  0.00  0.00    +0.051 C \r\n"
     ]
    }
   ],
   "source": [
    "# execute this in a command-line environment after replacing the parameters\n",
    "!{dockstream_env}/bin/python {target_preparator} -conf {target_prep_path}\n",
    "!head -n 25 {adv_receptor_path}"
   ]
  },
  {
   "cell_type": "markdown",
   "metadata": {},
   "source": [
    "This is it, now we have **(a)** fixed some minor issues with the input structure and **(b)** generated a reference ligand-based receptor and stored it in a binary file. For inspection later, we will write out the \"fixed\" PDB structure (parameter `fixed_pdb_path` in the `fixer` block above)."
   ]
  },
  {
   "cell_type": "markdown",
   "metadata": {},
   "source": [
    "## Docking\n",
    "In this section we consider a case where we have just prepared the receptor and want to dock a bunch of ligands (molecules, compounds) into the binding cleft. Often, we only have the structure of the molecules in the form of `SMILES`, rather than a 3D structure so the first step will be to generate these conformers before proceeding. In `DockStream` you can embed your ligands with a variety of programs including `Corina`, `RDKit`, `OMEGA` and `LigPrep` and use them freely with any backend. Here, we will use `Corina` for the conformer embedding.\n",
    "\n",
    "But first, we will have a look at the ligands:"
   ]
  },
  {
   "cell_type": "code",
   "execution_count": 5,
   "metadata": {},
   "outputs": [
    {
     "name": "stdout",
     "output_type": "stream",
     "text": [
      "['C#CCCCn1c(Cc2cc(OC)c(OC)c(OC)c2Cl)nc2c(N)ncnc21', 'CCCCn1c(Cc2cc(OC)c(OC)c(OC)c2)nc2c(N)ncnc21', 'CCCCn1c(Cc2cc(OC)ccc2OC)nc2c(N)ncnc21', 'CCCCn1c(Cc2cccc(OC)c2)nc2c(N)ncnc21', 'C#CCCCn1c(Cc2cc(OC)c(OC)c(OC)c2Cl)nc2c(N)nc(F)nc21', 'CCCCn1c(Cc2ccc(OC)cc2)nc2c(N)ncnc21', 'CCCCn1c(Cc2ccc3c(c2)OCO3)nc2c(N)ncnc21', 'CCCCn1c(Cc2cc(OC)ccc2OC)nc2c(N)nc(F)nc21', 'CCCCn1c(Cc2ccc3c(c2)OCO3)nc2c(N)nc(F)nc21', 'C#CCCCn1c(Cc2cc(OC)ccc2OC)nc2c(N)nc(F)nc21', 'CC(C)NCCCn1c(Cc2cc3c(cc2I)OCO3)nc2c(N)nc(F)nc21', 'CC(C)NCCCn1c(Sc2cc3c(cc2Br)OCO3)nc2c(N)ncnc21', 'CC(C)NCCCn1c(Sc2cc3c(cc2I)OCO3)nc2c(N)ncnc21', 'COc1ccc(OC)c(Cc2nc3nc(F)nc(N)c3[nH]2)c1', 'Nc1nccn2c(NCc3ccccc3)c(Cc3cc4c(cc3Br)OCO4)nc12']\n"
     ]
    }
   ],
   "source": [
    "# load the smiles (just for illustrative purposes)\n",
    "# here, 15 moleucles will be used\n",
    "with open(smiles_path, 'r') as f:\n",
    "    smiles = [smile.strip() for smile in f.readlines()]\n",
    "print(smiles)"
   ]
  },
  {
   "cell_type": "markdown",
   "metadata": {},
   "source": [
    "While the embedding and docking tasks in `DockStream` are both specified in the same configuration file, they are handled independently. This means it is perfectly fine to either load conformers (from an `SDF` file) directly or to use a call of `docker.py` merely to generate conformers without doing the docking afterwards.\n",
    "\n",
    "`DockStream` uses the notion of (embedding) \"pool\"s, of which multiple can be specified and accessed via identifiers. Note, that while the way conformers are generated is highly backend specific, `DockStream` allows you to use the results interchangably. This allows to (a) re-use embedded molecules for multiple docking runs (e.g. different scoring functions), without the necessity to embed them more than once and (b) to combine embeddings and docking backends freely.\n",
    "\n",
    "One important feature is that you can also specify an `align` block for the pools, which will try to align the conformers produced to the reference ligand's coordinates. Alignment is especially useful if your molecules have a large common sub-structure, as it will potentially enhance the results. **Warning:** At the moment, this feature is a bit unstable at times (potentially crashes, if no overlap of a ligand with the reference ligand can be found).\n",
    "\n",
    "As mentioned at the target preparation stage, we need to specify the cavity (binding cleft) or search space for `AutoDock Vina`. As we have extracted the \"box\" (see print-out of the logging file below) using a reference ligand, this helps us deciding on the dimensions of the search space:"
   ]
  },
  {
   "cell_type": "code",
   "execution_count": null,
   "metadata": {},
   "outputs": [],
   "source": [
    "!cat {log_file_target_prep}"
   ]
  },
  {
   "cell_type": "markdown",
   "metadata": {},
   "source": [
    "The three `mean` values will serve as the center of the search space and from the minimum and maximum values in all three dimensions, we decide to use 15 (for `x`) and 10 (for `y` and `z`, respectively). As larger ligands could be used, we will give the algorithm some leeway in each dimension."
   ]
  },
  {
   "cell_type": "code",
   "execution_count": null,
   "metadata": {},
   "outputs": [],
   "source": [
    "# specify the embedding and docking JSON file as a dictionary and write it out\n",
    "ed_dict = {\n",
    "  \"docking\": {\n",
    "    \"header\": {                                         # general settings\n",
    "      \"logging\": {                                      # logging settings (e.g. which file to write to)\n",
    "        \"logfile\": log_file_docking\n",
    "      }\n",
    "    },\n",
    "    \"ligand_preparation\": {                             # the ligand preparation part, defines how to build the pool\n",
    "      \"embedding_pools\": [\n",
    "        {\n",
    "          \"pool_id\": \"Corina_pool\",                     # here, we only have one pool\n",
    "          \"type\": \"Corina\",\n",
    "          \"parameters\": {\n",
    "            \"prefix_execution\": \"module load corina\"    # only required, if a module needs to be loaded to execute \"Corina\"\n",
    "          },\n",
    "          \"input\": {\n",
    "            \"standardize_smiles\": False,\n",
    "            \"type\": \"smi\",\n",
    "            \"input_path\": smiles_path\n",
    "          },\n",
    "          \"output\": {                                   # the conformers can be written to a file, but \"output\" is\n",
    "                                                        # not required as the ligands are forwarded internally\n",
    "            \"conformer_path\": ligands_conformers_path, \n",
    "            \"format\": \"sdf\"\n",
    "          }\n",
    "        }\n",
    "      ]\n",
    "    },\n",
    "    \"docking_runs\": [\n",
    "    {\n",
    "      \"backend\": \"AutoDockVina\",\n",
    "      \"run_id\": \"AutoDockVina\",\n",
    "      \"input_pools\": [\"Corina_pool\"],\n",
    "      \"parameters\": {\n",
    "        \"binary_location\": vina_binary_location,        # absolute path to the folder, where the \"vina\" binary\n",
    "                                                        # can be found\n",
    "        \"parallelization\": {\n",
    "          \"number_cores\": 4\n",
    "        },\n",
    "        \"seed\": 42,                                     # use this \"seed\" to generate reproducible results; if\n",
    "                                                        # varied, slightly different results will be produced\n",
    "        \"receptor_pdbqt_path\": [adv_receptor_path],     # paths to the receptor files\n",
    "        \"number_poses\": 2,                              # number of poses to be generated\n",
    "        \"search_space\": {                               # search space (cavity definition); see text\n",
    "          \"--center_x\": 3.3,\n",
    "          \"--center_y\": 11.5,\n",
    "          \"--center_z\": 24.8,\n",
    "          \"--size_x\": 15,\n",
    "          \"--size_y\": 10,\n",
    "          \"--size_z\": 10\n",
    "        }\n",
    "      },\n",
    "      \"output\": {\n",
    "        \"poses\": { \"poses_path\": ligands_docked_path },\n",
    "        \"scores\": { \"scores_path\": ligands_scores_path }\n",
    "}}]}}\n",
    "\n",
    "with open(docking_path, 'w') as f:\n",
    "    json.dump(ed_dict, f, indent=2)\n",
    "\n",
    "# print out path to generated JSON\n",
    "print(docking_path)"
   ]
  },
  {
   "cell_type": "code",
   "execution_count": 8,
   "metadata": {},
   "outputs": [
    {
     "name": "stdout",
     "output_type": "stream",
     "text": [
      "-9.2\r\n",
      "-9.3\r\n",
      "-9.3\r\n",
      "-9.5\r\n",
      "-9.6\r\n",
      "-9.2\r\n",
      "-10.1\r\n",
      "-9.4\r\n",
      "-10.3\r\n",
      "-9.5\r\n",
      "-9.3\r\n",
      "-9.2\r\n",
      "-9.2\r\n",
      "-9.8\r\n",
      "-11.0\r\n"
     ]
    }
   ],
   "source": [
    "# execute this in a command-line environment after replacing the parameters\n",
    "!{dockstream_env}/bin/python {docker} -conf {docking_path} -print_scores"
   ]
  },
  {
   "cell_type": "markdown",
   "metadata": {},
   "source": [
    "Note, that the scores are usually only outputted to a `CSV` file specified by the `scores` block, but that since we have used parameter `-print_scores` they will also be printed to `stdout` (line-by-line).\n",
    "\n",
    "These scores are associated with docking poses (see picture below for a couple of ligands overlaid in the binding pocket).\n",
    "\n",
    "![](img/docked_ligands_overlay_holo.png)"
   ]
  },
  {
   "cell_type": "markdown",
   "metadata": {},
   "source": [
    "## Using `DockStream` as a scoring component in `REINVENT`\n",
    "The *de novo* design platform `REINVENT` holds a recently added `DockStream` scoring function component (also check out our collection of notebooks in the [ReinventCommunity](https://github.com/MolecularAI/ReinventCommunity) repository). This means, provided that all necessary input files and configurations are available, you may run `REINVENT` and incorporate docking scores into the score of the compounds generated. Together with `FastROCS`, this represents the first step to integrate physico-chemical 3D information.\n",
    "\n",
    "While the docking scores are a very crude proxy for the actual binding affinity (at best), it does prove useful as a *geometric filter* (removing ligands that obviously do not fit the binding cavity). Furthermore, a severe limitation of knowledge-based predictions e.g. in activity models is the domain applicability. Docking, as a chemical space agnostic component, can enhance the ability of the agent for scaffold-hopping, i.e. to explore novel sub-areas in the chemical space.\n",
    "\n",
    "### The `REINVENT` configuration JSON\n",
    "\n",
    "While every docking backend has its own configuration (see section above), calling `DockStream`'s `docker.py` entry point ensures that they all follow the same external API. Thus the component that needs to be added to `REINVENT`'s JSON configuration (to the `scoring_function`->`parameters` list) looks as follows for `AutoDock Vina`:\n",
    "\n",
    "```\n",
    "{\n",
    "    \"component_type\": \"dockstream\",\n",
    "    \"name\": \"dockstream\",\n",
    "    \"weight\": 1,\n",
    "    \"specific_parameters\": {\n",
    "        \"transformation\": {\n",
    "            \"transformation_type\": \"reverse_sigmoid\",\n",
    "            \"low\": -12,\n",
    "            \"high\": -8,\n",
    "            \"k\": 0.25\n",
    "         },\n",
    "        \"configuration_path\": \"<absolute_path_to_DockStream_configuration>/docking.json\",\n",
    "        \"docker_script_path\": \"<absolute_path_to_DockStream_source>/docker.py\",\n",
    "        \"environment_path\": \"<absolute_path_to_miniconda_installation>/envs/DockStream/bin/python\"\n",
    "    }\n",
    "}\n",
    "```\n",
    "\n",
    "You will need to update `configuration_path`, `docker_script_path` and the link to the environment, `environment_path` to match your system's configuration. It might be, that the latter two are already set to meaningful defaults, but your `DockStream` configuration JSON file will be specific for each run. \n",
    "\n",
    "#### How to find an appropriate transformation?\n",
    "We use a *reverse sigmoid* score transformation to bring the numeric, continuous value that was outputted by `DockStream` and fed back to `REINVENT` into a 0 to 1 regime. The parameters `low`, `high` and `k` are critical: their exact value naturally depends on the backend used, but also on the scoring function (make sure, \"more negative is better\" - otherwise you are looking for a *sigmoid* transformation) and potentially also the project used. The values reported here can be used as rule-of-thumb for an `AutoDock Vina` run. Below is a code snippet, that helps to find the appropriate parameters (excerpt of the `ReinventCommunity` notebook `Score_Transformations`)."
   ]
  },
  {
   "cell_type": "code",
   "execution_count": 9,
   "metadata": {},
   "outputs": [],
   "source": [
    "# load the dependencies and classes used\n",
    "%run code/score_transformation.py\n",
    "\n",
    "# set plotting parameters\n",
    "small = 12\n",
    "med = 16\n",
    "large = 22\n",
    "params = {\"axes.titlesize\": large,\n",
    "          \"legend.fontsize\": med,\n",
    "          \"figure.figsize\": (16, 10),\n",
    "          \"axes.labelsize\": med,\n",
    "          \"axes.titlesize\": med,\n",
    "          \"xtick.labelsize\": med,\n",
    "          \"ytick.labelsize\": med,\n",
    "          \"figure.titlesize\": large}\n",
    "plt.rcParams.update(params)\n",
    "plt.style.use(\"seaborn-whitegrid\")\n",
    "sns.set_style(\"white\")\n",
    "%matplotlib inline\n",
    "\n",
    "# set up Enums and factory\n",
    "tt_enum = TransformationTypeEnum()\n",
    "csp_enum = ComponentSpecificParametersEnum()\n",
    "factory = TransformationFactory()"
   ]
  },
  {
   "cell_type": "code",
   "execution_count": 10,
   "metadata": {},
   "outputs": [
    {
     "data": {
      "image/png": "[encoded data removed]",
      "text/plain": [
       "<Figure size 1280x800 with 1 Axes>"
      ]
     },
     "metadata": {
      "needs_background": "light"
     },
     "output_type": "display_data"
    }
   ],
   "source": [
    "# sigmoid transformation\n",
    "# ---------\n",
    "values_list = np.arange(-14, -7, 0.25).tolist()\n",
    "specific_parameters = {csp_enum.TRANSFORMATION: True,\n",
    "                       csp_enum.LOW: -12,\n",
    "                       csp_enum.HIGH: -8,\n",
    "                       csp_enum.K: 0.25,\n",
    "                       csp_enum.TRANSFORMATION_TYPE: tt_enum.REVERSE_SIGMOID}\n",
    "transform_function = factory.get_transformation_function(specific_parameters)\n",
    "transformed_scores = transform_function(predictions=values_list,\n",
    "                                        parameters=specific_parameters)\n",
    "\n",
    "# render the curve\n",
    "render_curve(title=\" Reverse Sigmoid Transformation\", x=values_list, y=transformed_scores)"
   ]
  },
  {
   "cell_type": "markdown",
   "metadata": {},
   "source": [
    "### How to specify the `DockStream` configuration file?\n",
    "In principle, all options that are supported in a \"normal\" `DockStream` run (see above) are supported for usage with `REINVENT` as well, with a few notable exceptions. First, as we report only one value per ligand (and a \"consensus score\" is not yet supported), you should only use **one** embedding / pool and **one** backend (as in the example above). Second, the prospective ligands are not supplied via a file but from `stdin`, thus we will need to change the `input` part of the pool definition. Also, we might not want to write-out all conformers, so we will remove the `output` block entirely. The updated section then looks as follows:\n",
    "\n",
    "```\n",
    "{\n",
    "    \"pool_id\": \"Corina_pool\",\n",
    "    \"type\": \"Corina\",\n",
    "    \"parameters\": {\n",
    "        \"removeHs\": False\n",
    "     },\n",
    "     \"input\": {\n",
    "         \"standardize_smiles\": False\n",
    "     }\n",
    "}\n",
    "```\n",
    "\n",
    "Finally, we will update the docking run as well. Typically, we want to see the docked poses per epoch and maybe also the scores and the SMILES in a well-tabulated format. Thus, we might retain the `output` block here, but as every epoch generates each of the files, it would overwrite it by default. If parameter `overwrite` is set to `False`, each consecutive write-out will be appended by a number, e.g. first epoch *poses.sdf* and *scores.csv*, second epoch *0001_poses.sdf* and *0001_scores.csv*, third epoch *0002_poses.sdf* and *0002_scores.csv* and so on.\n",
    "\n",
    "```\n",
    "{\n",
    "    \"backend\": \"AutoDockVina\",\n",
    "    \"run_id\": \"AutoDockVina\",\n",
    "    \"input_pools\": [\"Corina_pool\"],\n",
    "    ...\n",
    "    \"output\": {\n",
    "        \"poses\": { \"poses_path\": ligands_docked_path, \"overwrite\": False },\n",
    "        \"scores\": { \"scores_path\": ligands_scores_path, \"overwrite\": False }\n",
    "    }\n",
    "}\n",
    "```"
   ]
  }
 ],
 "metadata": {
  "kernelspec": {
   "display_name": "Python 3 (ipykernel)",
   "language": "python",
   "name": "python3"
  },
  "language_info": {
   "codemirror_mode": {
    "name": "ipython",
    "version": 3
   },
   "file_extension": ".py",
   "mimetype": "text/x-python",
   "name": "python",
   "nbconvert_exporter": "python",
   "pygments_lexer": "ipython3",
   "version": "3.9.6"
  }
 },
 "nbformat": 4,
 "nbformat_minor": 2
}
